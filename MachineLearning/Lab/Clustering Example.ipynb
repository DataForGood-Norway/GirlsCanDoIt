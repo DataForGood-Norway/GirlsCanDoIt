{
 "cells": [
  {
   "cell_type": "markdown",
   "metadata": {},
   "source": [
    "# Example of Clustering using the Bay Area Bike Share dataset"
   ]
  },
  {
   "cell_type": "markdown",
   "metadata": {},
   "source": [
    "First, we import two classic scientific Python libraries:\n",
    "\n",
    "- `pandas` to easily process our data and store it into _DataFrames_\n",
    "- `matplotlib` for plots"
   ]
  },
  {
   "cell_type": "code",
   "execution_count": 3,
   "metadata": {},
   "outputs": [],
   "source": [
    "import pandas as pd\n",
    "import datetime\n",
    "import matplotlib.pyplot as plt\n",
    "\n",
    "# 'magic command' to display the plots inline in this notebook\n",
    "## (read more here: http://ipython.readthedocs.io/en/stable/interactive/magics.html)\n",
    "%matplotlib inline "
   ]
  },
  {
   "cell_type": "markdown",
   "metadata": {},
   "source": [
    "## Import dataset\n",
    "We'll use the [_Bay Area Bike Share dataset_](https://www.fordgobike.com/system-data) to perform clustering:"
   ]
  },
  {
   "cell_type": "code",
   "execution_count": 5,
   "metadata": {},
   "outputs": [],
   "source": [
    "X = pd.read_csv('datasets/BABS_trips_2015.csv.gz', index_col=0, parse_dates=[0])"
   ]
  },
  {
   "cell_type": "code",
   "execution_count": 7,
   "metadata": {},
   "outputs": [
    {
     "data": {
      "text/html": [
       "<div>\n",
       "<style scoped>\n",
       "    .dataframe tbody tr th:only-of-type {\n",
       "        vertical-align: middle;\n",
       "    }\n",
       "\n",
       "    .dataframe tbody tr th {\n",
       "        vertical-align: top;\n",
       "    }\n",
       "\n",
       "    .dataframe thead th {\n",
       "        text-align: right;\n",
       "    }\n",
       "</style>\n",
       "<table border=\"1\" class=\"dataframe\">\n",
       "  <thead>\n",
       "    <tr style=\"text-align: right;\">\n",
       "      <th></th>\n",
       "      <th>0</th>\n",
       "      <th>1</th>\n",
       "      <th>2</th>\n",
       "      <th>3</th>\n",
       "      <th>4</th>\n",
       "      <th>5</th>\n",
       "      <th>6</th>\n",
       "      <th>7</th>\n",
       "      <th>8</th>\n",
       "      <th>9</th>\n",
       "      <th>...</th>\n",
       "      <th>14</th>\n",
       "      <th>15</th>\n",
       "      <th>16</th>\n",
       "      <th>17</th>\n",
       "      <th>18</th>\n",
       "      <th>19</th>\n",
       "      <th>20</th>\n",
       "      <th>21</th>\n",
       "      <th>22</th>\n",
       "      <th>23</th>\n",
       "    </tr>\n",
       "    <tr>\n",
       "      <th>date</th>\n",
       "      <th></th>\n",
       "      <th></th>\n",
       "      <th></th>\n",
       "      <th></th>\n",
       "      <th></th>\n",
       "      <th></th>\n",
       "      <th></th>\n",
       "      <th></th>\n",
       "      <th></th>\n",
       "      <th></th>\n",
       "      <th></th>\n",
       "      <th></th>\n",
       "      <th></th>\n",
       "      <th></th>\n",
       "      <th></th>\n",
       "      <th></th>\n",
       "      <th></th>\n",
       "      <th></th>\n",
       "      <th></th>\n",
       "      <th></th>\n",
       "      <th></th>\n",
       "    </tr>\n",
       "  </thead>\n",
       "  <tbody>\n",
       "    <tr>\n",
       "      <th>2014-09-01</th>\n",
       "      <td>3.0</td>\n",
       "      <td>0.0</td>\n",
       "      <td>0.0</td>\n",
       "      <td>1.0</td>\n",
       "      <td>2.0</td>\n",
       "      <td>1.0</td>\n",
       "      <td>1.0</td>\n",
       "      <td>4.0</td>\n",
       "      <td>13.0</td>\n",
       "      <td>16.0</td>\n",
       "      <td>...</td>\n",
       "      <td>49.0</td>\n",
       "      <td>28.0</td>\n",
       "      <td>23.0</td>\n",
       "      <td>25.0</td>\n",
       "      <td>7.0</td>\n",
       "      <td>19.0</td>\n",
       "      <td>12.0</td>\n",
       "      <td>9.0</td>\n",
       "      <td>4.0</td>\n",
       "      <td>0.0</td>\n",
       "    </tr>\n",
       "    <tr>\n",
       "      <th>2014-09-02</th>\n",
       "      <td>0.0</td>\n",
       "      <td>1.0</td>\n",
       "      <td>0.0</td>\n",
       "      <td>0.0</td>\n",
       "      <td>2.0</td>\n",
       "      <td>4.0</td>\n",
       "      <td>31.0</td>\n",
       "      <td>113.0</td>\n",
       "      <td>181.0</td>\n",
       "      <td>152.0</td>\n",
       "      <td>...</td>\n",
       "      <td>43.0</td>\n",
       "      <td>51.0</td>\n",
       "      <td>111.0</td>\n",
       "      <td>198.0</td>\n",
       "      <td>141.0</td>\n",
       "      <td>52.0</td>\n",
       "      <td>24.0</td>\n",
       "      <td>12.0</td>\n",
       "      <td>9.0</td>\n",
       "      <td>9.0</td>\n",
       "    </tr>\n",
       "    <tr>\n",
       "      <th>2014-09-03</th>\n",
       "      <td>0.0</td>\n",
       "      <td>1.0</td>\n",
       "      <td>1.0</td>\n",
       "      <td>1.0</td>\n",
       "      <td>1.0</td>\n",
       "      <td>9.0</td>\n",
       "      <td>34.0</td>\n",
       "      <td>124.0</td>\n",
       "      <td>218.0</td>\n",
       "      <td>139.0</td>\n",
       "      <td>...</td>\n",
       "      <td>46.0</td>\n",
       "      <td>47.0</td>\n",
       "      <td>107.0</td>\n",
       "      <td>209.0</td>\n",
       "      <td>151.0</td>\n",
       "      <td>69.0</td>\n",
       "      <td>22.0</td>\n",
       "      <td>17.0</td>\n",
       "      <td>13.0</td>\n",
       "      <td>7.0</td>\n",
       "    </tr>\n",
       "    <tr>\n",
       "      <th>2014-09-04</th>\n",
       "      <td>2.0</td>\n",
       "      <td>0.0</td>\n",
       "      <td>0.0</td>\n",
       "      <td>0.0</td>\n",
       "      <td>3.0</td>\n",
       "      <td>7.0</td>\n",
       "      <td>37.0</td>\n",
       "      <td>107.0</td>\n",
       "      <td>195.0</td>\n",
       "      <td>125.0</td>\n",
       "      <td>...</td>\n",
       "      <td>47.0</td>\n",
       "      <td>56.0</td>\n",
       "      <td>122.0</td>\n",
       "      <td>191.0</td>\n",
       "      <td>125.0</td>\n",
       "      <td>51.0</td>\n",
       "      <td>29.0</td>\n",
       "      <td>23.0</td>\n",
       "      <td>19.0</td>\n",
       "      <td>6.0</td>\n",
       "    </tr>\n",
       "    <tr>\n",
       "      <th>2014-09-05</th>\n",
       "      <td>2.0</td>\n",
       "      <td>2.0</td>\n",
       "      <td>0.0</td>\n",
       "      <td>2.0</td>\n",
       "      <td>2.0</td>\n",
       "      <td>7.0</td>\n",
       "      <td>25.0</td>\n",
       "      <td>104.0</td>\n",
       "      <td>190.0</td>\n",
       "      <td>123.0</td>\n",
       "      <td>...</td>\n",
       "      <td>41.0</td>\n",
       "      <td>52.0</td>\n",
       "      <td>119.0</td>\n",
       "      <td>164.0</td>\n",
       "      <td>110.0</td>\n",
       "      <td>37.0</td>\n",
       "      <td>29.0</td>\n",
       "      <td>9.0</td>\n",
       "      <td>13.0</td>\n",
       "      <td>9.0</td>\n",
       "    </tr>\n",
       "    <tr>\n",
       "      <th>2014-09-06</th>\n",
       "      <td>4.0</td>\n",
       "      <td>3.0</td>\n",
       "      <td>0.0</td>\n",
       "      <td>0.0</td>\n",
       "      <td>0.0</td>\n",
       "      <td>1.0</td>\n",
       "      <td>3.0</td>\n",
       "      <td>7.0</td>\n",
       "      <td>15.0</td>\n",
       "      <td>26.0</td>\n",
       "      <td>...</td>\n",
       "      <td>43.0</td>\n",
       "      <td>30.0</td>\n",
       "      <td>44.0</td>\n",
       "      <td>28.0</td>\n",
       "      <td>47.0</td>\n",
       "      <td>37.0</td>\n",
       "      <td>9.0</td>\n",
       "      <td>8.0</td>\n",
       "      <td>5.0</td>\n",
       "      <td>3.0</td>\n",
       "    </tr>\n",
       "  </tbody>\n",
       "</table>\n",
       "<p>6 rows × 24 columns</p>\n",
       "</div>"
      ],
      "text/plain": [
       "              0    1    2    3    4    5     6      7      8      9 ...   \\\n",
       "date                                                                ...    \n",
       "2014-09-01  3.0  0.0  0.0  1.0  2.0  1.0   1.0    4.0   13.0   16.0 ...    \n",
       "2014-09-02  0.0  1.0  0.0  0.0  2.0  4.0  31.0  113.0  181.0  152.0 ...    \n",
       "2014-09-03  0.0  1.0  1.0  1.0  1.0  9.0  34.0  124.0  218.0  139.0 ...    \n",
       "2014-09-04  2.0  0.0  0.0  0.0  3.0  7.0  37.0  107.0  195.0  125.0 ...    \n",
       "2014-09-05  2.0  2.0  0.0  2.0  2.0  7.0  25.0  104.0  190.0  123.0 ...    \n",
       "2014-09-06  4.0  3.0  0.0  0.0  0.0  1.0   3.0    7.0   15.0   26.0 ...    \n",
       "\n",
       "              14    15     16     17     18    19    20    21    22   23  \n",
       "date                                                                      \n",
       "2014-09-01  49.0  28.0   23.0   25.0    7.0  19.0  12.0   9.0   4.0  0.0  \n",
       "2014-09-02  43.0  51.0  111.0  198.0  141.0  52.0  24.0  12.0   9.0  9.0  \n",
       "2014-09-03  46.0  47.0  107.0  209.0  151.0  69.0  22.0  17.0  13.0  7.0  \n",
       "2014-09-04  47.0  56.0  122.0  191.0  125.0  51.0  29.0  23.0  19.0  6.0  \n",
       "2014-09-05  41.0  52.0  119.0  164.0  110.0  37.0  29.0   9.0  13.0  9.0  \n",
       "2014-09-06  43.0  30.0   44.0   28.0   47.0  37.0   9.0   8.0   5.0  3.0  \n",
       "\n",
       "[6 rows x 24 columns]"
      ]
     },
     "execution_count": 7,
     "metadata": {},
     "output_type": "execute_result"
    }
   ],
   "source": [
    "X.head(6)"
   ]
  },
  {
   "cell_type": "code",
   "execution_count": 8,
   "metadata": {},
   "outputs": [
    {
     "data": {
      "text/plain": [
       "(365, 24)"
      ]
     },
     "execution_count": 8,
     "metadata": {},
     "output_type": "execute_result"
    }
   ],
   "source": [
    "X.shape"
   ]
  },
  {
   "cell_type": "markdown",
   "metadata": {},
   "source": [
    "The dataset has:\n",
    "- 365 samples (or units), each of them collected on a different day in a year\n",
    "- 24 features (or variables), each of them representing the hourly bike count"
   ]
  },
  {
   "cell_type": "markdown",
   "metadata": {},
   "source": [
    "## Clustering algorithm\n",
    "We have no knowledge regarding:\n",
    "- the number of groups we should divide our data points (hourly counts) in,\n",
    "- which data point belongs to which group.\n",
    "\n",
    "We'll perform a [k-means clustering](https://www.datascience.com/blog/k-means-clustering): as a result we'll end up with $k$ groups of hourly bike counts having similar characteristics.\n",
    "\n",
    "The algorithm most commonly used to do clustering is [`KMeans`](http://scikit-learn.org/stable/modules/clustering.html#k-means) from the Python library `scikit-learn`."
   ]
  },
  {
   "cell_type": "code",
   "execution_count": null,
   "metadata": {},
   "outputs": [],
   "source": [
    "from sklearn.cluster import KMeans"
   ]
  },
  {
   "cell_type": "markdown",
   "metadata": {},
   "source": [
    "We pick a range of values for $k$ and we fit and evaluate each clustering setup:"
   ]
  },
  {
   "cell_type": "code",
   "execution_count": null,
   "metadata": {},
   "outputs": [],
   "source": [
    "ks = range(2, 10)\n",
    "scores = [-KMeans(k).fit(X).score(X) for k in ks]"
   ]
  },
  {
   "cell_type": "code",
   "execution_count": null,
   "metadata": {},
   "outputs": [],
   "source": [
    "plt.plot(ks, scores)\n",
    "plt.ylabel(\"within-cluster sum of squares\")\n",
    "plt.xlabel(\"number of Ks\")\n",
    "plt.show()"
   ]
  },
  {
   "cell_type": "markdown",
   "metadata": {},
   "source": [
    "This plot shows how the _within-cluster distance_ between data points decreases when the number of clusters $k$ is increasing.\n",
    "\n",
    "The bigger the number ($k$) of groups we have:\n",
    "- the more similar to each other are the data points we'll have in each cluster (less dispersion)\n",
    "- the less generalizable the results we can infer from this data grouping, since each cluster will be less and less populated (overfitting)\n",
    "\n",
    "We want to stop in the \"sweet spot\" where we see the biggest decrease in _within-cluster distance_ keeping the number of groups as low as possible in order to get a simpler and effective model.\n",
    "That point is the \"elbow point\", and in this case it is stopping at $k=4$."
   ]
  },
  {
   "cell_type": "code",
   "execution_count": null,
   "metadata": {},
   "outputs": [],
   "source": [
    "model = KMeans(4).fit(X)"
   ]
  },
  {
   "cell_type": "code",
   "execution_count": null,
   "metadata": {},
   "outputs": [],
   "source": [
    "for n, center in enumerate(model.cluster_centers_):\n",
    "    plt.plot(center, label=\"cluster = {}\".format(n))\n",
    "plt.ylabel(\"hourly bike count\")\n",
    "plt.xlabel(\"hour of the day\")\n",
    "plt.legend()"
   ]
  },
  {
   "cell_type": "markdown",
   "metadata": {},
   "source": [
    "Plotting these 4 groups we see how 3 of them have a big spike in hourly bike count in the morning and in the evening.\n",
    "\n",
    "So: if we're able to see the rush hours, could it be that the only cluster that didn't catch that variation (`cluster = 2`) might represent weekends (as opposed to working days)?\n",
    "We'll now try to look if the data has some underlying weekly variations:"
   ]
  },
  {
   "cell_type": "code",
   "execution_count": null,
   "metadata": {},
   "outputs": [],
   "source": [
    "labels = pd.DataFrame({'date': X.index, 'cluster': model.labels_})"
   ]
  },
  {
   "cell_type": "code",
   "execution_count": null,
   "metadata": {},
   "outputs": [],
   "source": [
    "from calendar import day_abbr, month_abbr"
   ]
  },
  {
   "cell_type": "code",
   "execution_count": null,
   "metadata": {},
   "outputs": [],
   "source": [
    "labels['day'] = labels.date.apply(lambda x: day_abbr[x.weekday()])\n",
    "labels['month'] = labels.date.apply(lambda x: month_abbr[x.month])"
   ]
  },
  {
   "cell_type": "code",
   "execution_count": null,
   "metadata": {},
   "outputs": [],
   "source": [
    "weekday_counts = labels.groupby(['cluster', 'day']).size().rename('count').reset_index()"
   ]
  },
  {
   "cell_type": "code",
   "execution_count": null,
   "metadata": {},
   "outputs": [],
   "source": [
    "better_counts = weekday_counts.reset_index().pivot(columns='day', values='count', index='cluster').fillna(0)\n",
    "better_counts"
   ]
  },
  {
   "cell_type": "code",
   "execution_count": null,
   "metadata": {},
   "outputs": [],
   "source": [
    "better_counts[[day_abbr[i] for i in range(7)]].plot.bar()\n",
    "plt.ylabel('count')"
   ]
  },
  {
   "cell_type": "markdown",
   "metadata": {},
   "source": [
    "In this plot we see how the `cluster = 2` was in fact populated by data points in weekends.\n",
    "\n",
    "Let's now try the same analysis with months of the year:"
   ]
  },
  {
   "cell_type": "code",
   "execution_count": null,
   "metadata": {},
   "outputs": [],
   "source": [
    "(labels\n",
    " .groupby(['cluster', 'month'])\n",
    " .day.count().reset_index()\n",
    " .pivot(columns='month', values='day', index='cluster')\n",
    " .fillna(0)[[month_abbr[i] for i in range(1, 13)]]\n",
    " .plot.bar())\n",
    "plt.legend(bbox_to_anchor=(1,1))\n",
    "plt.ylabel('count')"
   ]
  }
 ],
 "metadata": {
  "kernelspec": {
   "display_name": "Python [default]",
   "language": "python",
   "name": "python3"
  },
  "language_info": {
   "codemirror_mode": {
    "name": "ipython",
    "version": 3
   },
   "file_extension": ".py",
   "mimetype": "text/x-python",
   "name": "python",
   "nbconvert_exporter": "python",
   "pygments_lexer": "ipython3",
   "version": "3.6.5"
  }
 },
 "nbformat": 4,
 "nbformat_minor": 2
}
