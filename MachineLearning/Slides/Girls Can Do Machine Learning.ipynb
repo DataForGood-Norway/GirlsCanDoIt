{
 "cells": [
  {
   "cell_type": "code",
   "execution_count": 1,
   "metadata": {
    "slideshow": {
     "slide_type": "skip"
    }
   },
   "outputs": [],
   "source": [
    "# Import libraries to embed videos and scripts, we hide it in the slides:\n",
    "from IPython.display import display, HTML"
   ]
  },
  {
   "cell_type": "markdown",
   "metadata": {
    "slideshow": {
     "slide_type": "slide"
    }
   },
   "source": [
    "# Girls Can Do: Machine Learning!"
   ]
  },
  {
   "cell_type": "markdown",
   "metadata": {
    "slideshow": {
     "slide_type": "slide"
    }
   },
   "source": [
    "### Who are we?\n",
    "#### Emma Scala\n",
    "Geophysicist for 17 years, now exploring the possibilities of Data Science\n",
    "\n",
    "<img src=\"http://vbpr.no/wp-content/uploads/2016/09/PCable-Norwegian-Sea-seismic-sample.jpg\" alt=\"Seismic section\" title=\"Seismic Section\" style=\"width: 50pc;\"/>"
   ]
  },
  {
   "cell_type": "markdown",
   "metadata": {
    "slideshow": {
     "slide_type": "slide"
    }
   },
   "source": [
    "### Who are we?\n",
    "#### Harjeet Harpal\n",
    "Statistics student, working at AIA Science as a Junior Data Scientist"
   ]
  },
  {
   "cell_type": "markdown",
   "metadata": {
    "slideshow": {
     "slide_type": "slide"
    }
   },
   "source": [
    "# What is Machine Learning?"
   ]
  },
  {
   "cell_type": "markdown",
   "metadata": {
    "slideshow": {
     "slide_type": "subslide"
    }
   },
   "source": [
    "Machine learning is that branch of computer science that has the development of Artificial Intelligence in mind."
   ]
  },
  {
   "cell_type": "markdown",
   "metadata": {
    "slideshow": {
     "slide_type": "subslide"
    }
   },
   "source": [
    "Machine learning:\n",
    "- first, makes use of computers to interpret available data and find _patterns_ in it\n",
    "- then, allows computers to get the knowledge to make predictions for new (still unobserved) data. "
   ]
  },
  {
   "cell_type": "markdown",
   "metadata": {
    "slideshow": {
     "slide_type": "slide"
    }
   },
   "source": [
    "## Goal:\n",
    "we want the machines to \"learn\" from examples instead of being explicitly programmed to perform a task / make a decision."
   ]
  },
  {
   "cell_type": "markdown",
   "metadata": {
    "slideshow": {
     "slide_type": "slide"
    }
   },
   "source": [
    "## How do we do it?\n",
    "we use *__Data Science__* to extract information from (lots of!) data in order to \"teach\" the AI how to predict some variable, or to classify an object"
   ]
  },
  {
   "cell_type": "markdown",
   "metadata": {
    "slideshow": {
     "slide_type": "subslide"
    }
   },
   "source": [
    "## And what is Data Science, then?\n",
    "What we call\n",
    "- Data Science\n",
    "- Data Mining\n",
    "- Data Analytics\n",
    "\n",
    "are in practice &nbsp;&nbsp; &asymp; &nbsp; __Statistics__: the branch of mathematics dealing with the collection, analysis, interpretation, presentation, and organization of data."
   ]
  },
  {
   "cell_type": "markdown",
   "metadata": {
    "slideshow": {
     "slide_type": "slide"
    }
   },
   "source": [
    "# Getting knowledge from data: the scientific method\n",
    "<center><img src=\"https://github.com/DataForGood-Norway/GirlsCanDoIt/blob/master/MachineLearning/Slides/files/ScientificMethod.png?raw=true\" title=\"Statistics\" width=\"70%\"/></center>"
   ]
  },
  {
   "cell_type": "markdown",
   "metadata": {
    "slideshow": {
     "slide_type": "subslide"
    }
   },
   "source": [
    "Even for humans telling apart a dog from a cat can be a difficult task _just_ from a picture:\n",
    "\n",
    "\n",
    "<center><img src=\"https://github.com/DataForGood-Norway/GirlsCanDoIt/blob/master/MachineLearning/Slides/files/dogcat.jpg?raw=true\" title=\"Cat Ground Truth\" width=\"50%\"/></center>\n",
    "\n",
    "(Add cute picture to slides: &#10003;)"
   ]
  },
  {
   "cell_type": "markdown",
   "metadata": {
    "slideshow": {
     "slide_type": "slide"
    }
   },
   "source": [
    "# Data Scientist's skill set(s)\n",
    "http://drewconway.com/zia/2013/3/26/the-data-science-venn-diagram\n",
    "<img src=\"https://github.com/DataForGood-Norway/GirlsCanDoIt/blob/master/MachineLearning/Slides/files/Data-Science-vs.-Data-Analytics-vs.-Machine-Learning.jpg?raw=true\" title=\"Data Scientist Skill Set\" width=\"90%\"/>"
   ]
  },
  {
   "cell_type": "markdown",
   "metadata": {
    "slideshow": {
     "slide_type": "subslide"
    }
   },
   "source": [
    "### The danger zone\n",
    "http://www.tylervigen.com/spurious-correlations\n",
    "<img src=\"https://github.com/DataForGood-Norway/GirlsCanDoIt/blob/master/MachineLearning/Slides/files/spurious_correlation.png?raw=true\" title=\"Spurious Correlation\" />"
   ]
  },
  {
   "cell_type": "markdown",
   "metadata": {
    "slideshow": {
     "slide_type": "subslide"
    }
   },
   "source": [
    "<blockquote class=\"twitter-tweet\" data-lang=\"en\"><p lang=\"en\" dir=\"ltr\">Data Scientist (n.): Person who is better at statistics than any software engineer and better at software engineering than any statistician.</p>&mdash; Josh Wills (@josh_wills) <a href=\"https://twitter.com/josh_wills/status/198093512149958656?ref_src=twsrc%5Etfw\">May 3, 2012</a></blockquote>\n",
    "<script async src=\"https://platform.twitter.com/widgets.js\" charset=\"utf-8\"></script>"
   ]
  },
  {
   "cell_type": "markdown",
   "metadata": {
    "slideshow": {
     "slide_type": "slide"
    }
   },
   "source": [
    "# Our tools:\n",
    "- Your computer! (or a partner)\n",
    "- Google Account to run some Python code on a [CoLaboratory](https://research.google.com/colaboratory/faq.html) notebook"
   ]
  },
  {
   "cell_type": "markdown",
   "metadata": {
    "slideshow": {
     "slide_type": "slide"
    }
   },
   "source": [
    "# Why Python?\n",
    "- Easy to learn language: it's great to start with it if you never coded before!\n",
    "- Powerful\n",
    "- Widely spread (= lots of packages and learning resources!)\n",
    "- Growing popularity"
   ]
  },
  {
   "cell_type": "markdown",
   "metadata": {
    "scrolled": true,
    "slideshow": {
     "slide_type": "slide"
    }
   },
   "source": [
    "<img src=\"https://github.com/DataForGood-Norway/GirlsCanDoIt/blob/master/MachineLearning/Slides/files/Google_Trends.jpeg?raw=true\" title=\"R vs Python trends\" />"
   ]
  },
  {
   "cell_type": "markdown",
   "metadata": {
    "slideshow": {
     "slide_type": "subslide"
    }
   },
   "source": [
    "# Why not R?\n",
    "R is another programming language we could have used (we recommend to [try it yourself](https://www.r-project.org/)!) but Python seems to be more flexible and popular.\n",
    "\n",
    "... and we couldn't set it up for this workshop because we didn't want to ask you to install anything :)\n"
   ]
  },
  {
   "cell_type": "markdown",
   "metadata": {
    "slideshow": {
     "slide_type": "slide"
    }
   },
   "source": [
    "# But why should we code at all?\n",
    "As a rule of thumb:\n",
    "\n",
    "#### _The easier it is to use a tool, the less flexible it is._"
   ]
  },
  {
   "cell_type": "markdown",
   "metadata": {
    "slideshow": {
     "slide_type": "slide"
    }
   },
   "source": [
    "# Outline:\n",
    "- Types of machine learning\n",
    "    - Examples of applications of machine learning\n",
    "- Types of data (and how we learn from it)\n",
    "    - Laboratory"
   ]
  },
  {
   "cell_type": "markdown",
   "metadata": {
    "slideshow": {
     "slide_type": "slide"
    }
   },
   "source": [
    "<img src=\"https://github.com/DataForGood-Norway/GirlsCanDoIt/blob/master/MachineLearning/Slides/files/ml_types.png?raw=true\" title=\"Types of Machine Learning\" />"
   ]
  },
  {
   "cell_type": "markdown",
   "metadata": {
    "slideshow": {
     "slide_type": "notes"
    }
   },
   "source": [
    "(We won't deal with reinforcement learning this time, since it requires us to talk about Markov processes and maximization of cumulative reward.)"
   ]
  },
  {
   "cell_type": "markdown",
   "metadata": {
    "slideshow": {
     "slide_type": "slide"
    }
   },
   "source": [
    "## Examples of applications of Machine Learning:\n",
    "### through _supervised_ learning:\n",
    "When we have observations of the **target variable** (what we want to predict)\n",
    "- Sports\n",
    "- Astronomy\n",
    "- Price-making for flight tickets"
   ]
  },
  {
   "cell_type": "markdown",
   "metadata": {
    "slideshow": {
     "slide_type": "notes"
    }
   },
   "source": [
    "Other examples: stock market, house pricing, prediction of salary, lifetime earnings, etc."
   ]
  },
  {
   "cell_type": "markdown",
   "metadata": {
    "slideshow": {
     "slide_type": "subslide"
    }
   },
   "source": [
    "[Women computers](https://www.atlasobscura.com/articles/how-female-computers-mapped-the-universe-and-brought-america-to-the-moon) at the Harvard College Observatory, who worked for the astronomer Edward Charles Pickering.\n",
    "<center><img src=\"https://github.com/DataForGood-Norway/GirlsCanDoIt/blob/master/MachineLearning/Slides/files/astronomy_b4_computers.jpg?raw=true\" title=\"Manual labelling in astronomy\" width=\"70%\" /></center>"
   ]
  },
  {
   "cell_type": "markdown",
   "metadata": {
    "slideshow": {
     "slide_type": "subslide"
    }
   },
   "source": [
    "Predicting athlete's success: [Moneyball](https://www.imdb.com/title/tt1210166/)\n",
    "<center><img src=\"https://github.com/DataForGood-Norway/GirlsCanDoIt/blob/master/MachineLearning/Slides/files/moneyball.jpg?raw=true\" title=\"Moneyball\" width=\"70%\"/></center>\n",
    "\n",
    "(Add Brad's picture to slides: &#10003;)"
   ]
  },
  {
   "cell_type": "markdown",
   "metadata": {
    "slideshow": {
     "slide_type": "slide"
    }
   },
   "source": [
    "## Examples of applications of Machine Learning:\n",
    "### through _unsupervised_ learning\n",
    "When we don't have observations for a target variable, but we **find patterns in data**\n",
    "\n",
    "- Netflix recommendations\n",
    "- Fraud detection\n",
    "- Natural Language Processing, sentiment analysis"
   ]
  },
  {
   "cell_type": "markdown",
   "metadata": {
    "slideshow": {
     "slide_type": "notes"
    }
   },
   "source": [
    "Other examples: self-driving cars, image recognition, article-writing bots"
   ]
  },
  {
   "cell_type": "markdown",
   "metadata": {
    "slideshow": {
     "slide_type": "subslide"
    }
   },
   "source": [
    "Or [book-writing](http://botnik.org/content/harry-potter.html) bots!\n",
    "<center><img src=\"https://github.com/DataForGood-Norway/GirlsCanDoIt/blob/master/MachineLearning/Slides/files/harry_potter.jpg?raw=true\" title=\"AI Harry Potter\" width=40% /></center>"
   ]
  },
  {
   "cell_type": "markdown",
   "metadata": {
    "slideshow": {
     "slide_type": "subslide"
    }
   },
   "source": [
    "Self-driving cars, finally!\n",
    "<center><img src=\"https://github.com/DataForGood-Norway/GirlsCanDoIt/blob/master/MachineLearning/Slides/files/selfdriving_car.gif?raw=true\" title=\"Self-driving car\"/></center>"
   ]
  },
  {
   "cell_type": "code",
   "execution_count": 2,
   "metadata": {
    "slideshow": {
     "slide_type": "subslide"
    }
   },
   "outputs": [
    {
     "data": {
      "text/html": [
       "<center>\n",
       "<iframe width=\"560\" height=\"315\" src=\"https://www.youtube.com/embed/bd1mEm2Fy08?rel=0&amp;showinfo=0&amp;start=43\" frameborder=\"0\" allow=\"autoplay; encrypted-media\" allowfullscreen></iframe>\n",
       "</center>"
      ],
      "text/plain": [
       "<IPython.core.display.HTML object>"
      ]
     },
     "metadata": {},
     "output_type": "display_data"
    }
   ],
   "source": [
    "# Google Duplex: AI assistant making call\n",
    "yt = \"\"\"<center>\n",
    "<iframe width=\"560\" height=\"315\" src=\"https://www.youtube.com/embed/bd1mEm2Fy08?rel=0&amp;showinfo=0&amp;start=43\" frameborder=\"0\" allow=\"autoplay; encrypted-media\" allowfullscreen></iframe>\n",
    "</center>\"\"\"\n",
    "display(HTML(yt))"
   ]
  },
  {
   "cell_type": "code",
   "execution_count": 3,
   "metadata": {
    "slideshow": {
     "slide_type": "subslide"
    }
   },
   "outputs": [
    {
     "data": {
      "text/html": [
       "<center>\n",
       "<iframe width=\"560\" height=\"315\" src=\"https://www.youtube.com/embed/7PknYqkG9TE?rel=0&amp;showinfo=0\" frameborder=\"0\" allow=\"autoplay; encrypted-media\" allowfullscreen></iframe>\n",
       "</center>"
      ],
      "text/plain": [
       "<IPython.core.display.HTML object>"
      ]
     },
     "metadata": {},
     "output_type": "display_data"
    }
   ],
   "source": [
    "# Pixel Buds instant translation\n",
    "yt = \"\"\"<center>\n",
    "<iframe width=\"560\" height=\"315\" src=\"https://www.youtube.com/embed/7PknYqkG9TE?rel=0&amp;showinfo=0\" frameborder=\"0\" allow=\"autoplay; encrypted-media\" allowfullscreen></iframe>\n",
    "</center>\"\"\"\n",
    "display(HTML(yt))"
   ]
  },
  {
   "cell_type": "markdown",
   "metadata": {
    "slideshow": {
     "slide_type": "slide"
    }
   },
   "source": [
    "# Types of data (and how the machines learn from it)\n",
    "\n",
    "<img src=\"https://github.com/DataForGood-Norway/GirlsCanDoIt/blob/master/MachineLearning/Slides/files/ml_task.png?raw=true\" title=\"Types of Data\" />"
   ]
  },
  {
   "cell_type": "markdown",
   "metadata": {
    "slideshow": {
     "slide_type": "slide"
    }
   },
   "source": [
    "# The learning process: training and testing a model\n",
    "\n",
    "The process of defining a model takes place in two phases:\n",
    "- Training\n",
    "- Testing\n",
    "\n",
    "So we need to split our data in **training dataset** and **test dataset** before working on it."
   ]
  },
  {
   "cell_type": "markdown",
   "metadata": {
    "slideshow": {
     "slide_type": "subslide"
    }
   },
   "source": [
    "## But why?\n",
    "We \"sacrifice\" some data we could train our model on, because we want to have a measure of its performance."
   ]
  },
  {
   "cell_type": "markdown",
   "metadata": {
    "slideshow": {
     "slide_type": "slide"
    }
   },
   "source": [
    "# The overfitting problem"
   ]
  },
  {
   "cell_type": "markdown",
   "metadata": {
    "slideshow": {
     "slide_type": "fragment"
    }
   },
   "source": [
    "We want to have a model that is good enough to fit our training data, but not to the point where it models even the noise."
   ]
  },
  {
   "cell_type": "code",
   "execution_count": 4,
   "metadata": {
    "slideshow": {
     "slide_type": "skip"
    }
   },
   "outputs": [
    {
     "data": {
      "text/plain": [
       "<Figure size 1400x500 with 3 Axes>"
      ]
     },
     "metadata": {},
     "output_type": "display_data"
    }
   ],
   "source": [
    "### WARNING: this piece of code is quite advanced, but we thought of leaving it in just to satisfy curiosity\n",
    "# This is how we generated the overfitting problem plots\n",
    "# (http://scikit-learn.org/stable/auto_examples/model_selection/plot_underfitting_overfitting.html):\n",
    "\n",
    "import numpy as np\n",
    "import matplotlib.pyplot as plt\n",
    "from sklearn.pipeline import Pipeline\n",
    "from sklearn.preprocessing import PolynomialFeatures\n",
    "from sklearn.linear_model import LinearRegression\n",
    "from sklearn.model_selection import cross_val_score\n",
    "\n",
    "\n",
    "def true_fun(X):\n",
    "    return np.cos(1.5 * np.pi * X)\n",
    "\n",
    "np.random.seed(0)\n",
    "\n",
    "n_samples = 30\n",
    "degrees = [1, 4, 15]\n",
    "\n",
    "X = np.sort(np.random.rand(n_samples))\n",
    "y = true_fun(X) + np.random.randn(n_samples) * 0.1\n",
    "\n",
    "plt.figure(figsize=(14, 5))\n",
    "for i in range(len(degrees)):\n",
    "    ax = plt.subplot(1, len(degrees), i + 1)\n",
    "    plt.setp(ax, xticks=(), yticks=())\n",
    "\n",
    "    polynomial_features = PolynomialFeatures(degree=degrees[i],\n",
    "                                             include_bias=False)\n",
    "    linear_regression = LinearRegression()\n",
    "    pipeline = Pipeline([(\"polynomial_features\", polynomial_features),\n",
    "                         (\"linear_regression\", linear_regression)])\n",
    "    pipeline.fit(X[:, np.newaxis], y)\n",
    "\n",
    "    # Evaluate the models using crossvalidation\n",
    "    scores = cross_val_score(pipeline, X[:, np.newaxis], y,\n",
    "                             scoring=\"neg_mean_squared_error\", cv=10)\n",
    "\n",
    "    X_test = np.linspace(0, 1, 100)\n",
    "    plt.plot(X_test, pipeline.predict(X_test[:, np.newaxis]), label=\"Model\")\n",
    "    plt.plot(X_test, true_fun(X_test), label=\"True function\")\n",
    "    plt.scatter(X, y, edgecolor='b', s=20, label=\"Samples\")\n",
    "    plt.xlabel(\"x\")\n",
    "    plt.ylabel(\"y\")\n",
    "    plt.xlim((0, 1))\n",
    "    plt.ylim((-2, 2))\n",
    "    plt.legend(loc=\"best\")\n",
    "    plt.title(\"Degree {}\\nMSE = {:.2e}(+/- {:.2e})\".format(\n",
    "        degrees[i], -scores.mean(), scores.std()))\n",
    "plt.show()"
   ]
  },
  {
   "cell_type": "markdown",
   "metadata": {
    "slideshow": {
     "slide_type": "slide"
    }
   },
   "source": [
    "<img src=\"https://github.com/DataForGood-Norway/GirlsCanDoIt/blob/master/MachineLearning/Slides/files/under_overfitting.png?raw=true\" alt=\"Overfitting vs Underfitting\" title=\"Seismic Section\" style=\"width: 50pc;\"/>"
   ]
  },
  {
   "cell_type": "code",
   "execution_count": 5,
   "metadata": {
    "slideshow": {
     "slide_type": "slide"
    }
   },
   "outputs": [
    {
     "data": {
      "text/html": [
       "<center>\n",
       "<iframe width=\"560\" height=\"315\" src=\"https://www.youtube-nocookie.com/embed/R9OHn5ZF4Uo?rel=0\" frameborder=\"0\" allow=\"autoplay; encrypted-media\" allowfullscreen></iframe>\n",
       "</center>"
      ],
      "text/plain": [
       "<IPython.core.display.HTML object>"
      ]
     },
     "metadata": {},
     "output_type": "display_data"
    }
   ],
   "source": [
    "### Break!\n",
    "# CGP Grey video: How Machines Learn\n",
    "yt = \"\"\"<center>\n",
    "<iframe width=\"560\" height=\"315\" src=\"https://www.youtube-nocookie.com/embed/R9OHn5ZF4Uo?rel=0\" frameborder=\"0\" allow=\"autoplay; encrypted-media\" allowfullscreen></iframe>\n",
    "</center>\"\"\"\n",
    "display(HTML(yt))"
   ]
  },
  {
   "cell_type": "markdown",
   "metadata": {
    "slideshow": {
     "slide_type": "subslide"
    }
   },
   "source": [
    "Why don't we use Neural Networks for everything, then?\n",
    "#### _You don't take the car for a five minutes walk._"
   ]
  },
  {
   "cell_type": "markdown",
   "metadata": {
    "slideshow": {
     "slide_type": "slide"
    }
   },
   "source": [
    "# Laboratory notebooks:\n",
    "- Continuous data, with task driven model (we want to make predictions)\n",
    "    - We'll tackle it with [**Linear Regression**](https://colab.research.google.com/github/DataForGood-Norway/GirlsCanDoIt/blob/master/MachineLearning/Lab/Linear%20Regression%20Example.ipynb)\n",
    "- Discrete data, with data driven model (we don't know what classes and how many they are, we'll see how the data will tend to be clustered)\n",
    "    - We'll tackle it with [**K-means Clustering**](https://colab.research.google.com/github/DataForGood-Norway/GirlsCanDoIt/blob/master/MachineLearning/Lab/Clustering%20Example.ipynb)"
   ]
  },
  {
   "cell_type": "markdown",
   "metadata": {
    "slideshow": {
     "slide_type": "subslide"
    }
   },
   "source": [
    "# What are notebooks?\n",
    "Documents created with _Jupyter Notebook_ that support:\n",
    "\n",
    "- **Python code**: code to run to perform data analysis \n",
    "- _Markdown_ or _HTML code_\n",
    "    - the analysis description (text)\n",
    "    - the results (figures, tables, equations, etc..)\n",
    "    \n",
    "... basically everything you've seen so far in these slides (videos!)"
   ]
  },
  {
   "cell_type": "markdown",
   "metadata": {
    "slideshow": {
     "slide_type": "slide"
    }
   },
   "source": [
    "# Linear Regression: a quick introduction"
   ]
  },
  {
   "cell_type": "markdown",
   "metadata": {
    "slideshow": {
     "slide_type": "fragment"
    }
   },
   "source": [
    "We want to find the linear function: $$\\pmb{F}(\\pmb{X}) = \\pmb{y}$$ where:\n",
    "\n",
    "* $\\pmb{X}$ is your matrix of **Features**\n",
    "* $\\pmb{y}$ is your vector of **Target values**\n",
    "* $\\pmb{F}$ is the **Model**/function that will be fitted on your data to match the target values from their features."
   ]
  },
  {
   "cell_type": "markdown",
   "metadata": {
    "slideshow": {
     "slide_type": "subslide"
    }
   },
   "source": [
    "<center><img src=\"https://github.com/DataForGood-Norway/GirlsCanDoIt/blob/master/MachineLearning/Slides/files/features_target.png?raw=true\" title=\"Features & Target\"/></center>"
   ]
  },
  {
   "cell_type": "markdown",
   "metadata": {
    "slideshow": {
     "slide_type": "slide"
    }
   },
   "source": [
    "## What we want to achieve:\n",
    "<img src=\"https://github.com/DataForGood-Norway/GirlsCanDoIt/blob/master/MachineLearning/Slides/files/OLS_data.jpeg?raw=true\" alt=\"Overfitting vs Underfitting\" title=\"OLS data points\"/>"
   ]
  },
  {
   "cell_type": "markdown",
   "metadata": {
    "slideshow": {
     "slide_type": "slide"
    }
   },
   "source": [
    "## Fitting a line through data\n",
    "<img src=\"https://github.com/DataForGood-Norway/GirlsCanDoIt/blob/master/MachineLearning/Slides/files/OLS_fitted.jpeg?raw=true\" alt=\"Overfitting vs Underfitting\" title=\"OLS fitted line\"/>"
   ]
  },
  {
   "cell_type": "markdown",
   "metadata": {
    "slideshow": {
     "slide_type": "slide"
    }
   },
   "source": [
    "## How to find the fitting line\n",
    "\n",
    "To find the line that fits \"the best\" through all our data points, we'll first compute the\n",
    "<h3><center>Squared error</center></h3>\n",
    "Which is the sum of the squares of the error of our model\n",
    "The error is the difference between the prediction of the target variable that our model made and its actual realization.\n",
    "$$\\sum \\left(\\pmb{y_{test}} - \\pmb{F}\\left(\\pmb{X_{test}}\\right)\\right)^2$$"
   ]
  },
  {
   "cell_type": "markdown",
   "metadata": {
    "slideshow": {
     "slide_type": "slide"
    }
   },
   "source": [
    "### Errors, visually\n",
    "<center><img src=\"https://github.com/DataForGood-Norway/GirlsCanDoIt/blob/master/MachineLearning/Slides/files/residuals_regression.png?raw=true\" title=\"Errors, visually\"/></center>"
   ]
  },
  {
   "cell_type": "markdown",
   "metadata": {
    "slideshow": {
     "slide_type": "slide"
    }
   },
   "source": [
    "# K-means Clustering: a quick introduction"
   ]
  },
  {
   "cell_type": "markdown",
   "metadata": {
    "slideshow": {
     "slide_type": "fragment"
    }
   },
   "source": [
    "K-means clustering is a type of **unsupervised learning**: used when you have unlabeled data (i.e., data without defined categories or groups).\n",
    "\n",
    "**Goal**: find groups in the data, with the number of groups represented by the variable K."
   ]
  },
  {
   "cell_type": "markdown",
   "metadata": {
    "slideshow": {
     "slide_type": "slide"
    }
   },
   "source": [
    "Rather than defining groups _before_ looking at the data, clustering allows you to find and analyze the groups that have formed _organically_.\n",
    "\n",
    "For this reason it can be used as a data pre-processing technique that will help us to find outliers, **having no previous knowledge** about the population."
   ]
  },
  {
   "cell_type": "markdown",
   "metadata": {
    "slideshow": {
     "slide_type": "slide"
    }
   },
   "source": [
    "## The algorithm\n",
    "**Input**:\n",
    "- all data points (observations)\n",
    "- number of desired groups K\n",
    "\n",
    "\n",
    "**Output**:\n",
    "- centroids of the K clusters, which can be used to label new data\n",
    "- labels for the training data (each data point is assigned to a single cluster)\n"
   ]
  },
  {
   "cell_type": "markdown",
   "metadata": {
    "slideshow": {
     "slide_type": "slide"
    }
   },
   "source": [
    "### Iterative algorithm:\n",
    "\n",
    "<code>assign random value to the features of the K centroids</code>\n",
    "\n",
    "<code>repeat:\n",
    "    1) assign/re-assign each data point to its nearest centroid\n",
    "    2) recompute centroids --> new centroids = mean of all data points assigned to that centroid's cluster</code>\n",
    "    \n",
    "<code>until a stopping criteria is met</code>"
   ]
  },
  {
   "cell_type": "markdown",
   "metadata": {
    "slideshow": {
     "slide_type": "slide"
    }
   },
   "source": [
    "### K-means algorithm, visually\n",
    "<center><img src=\"https://github.com/DataForGood-Norway/GirlsCanDoIt/blob/master/MachineLearning/Slides/files/Kmeans.gif?raw=true\" title=\"Kmeans algo animation\"/></center>"
   ]
  },
  {
   "cell_type": "markdown",
   "metadata": {
    "slideshow": {
     "slide_type": "slide"
    }
   },
   "source": [
    "# How to install Python?\n",
    "## ... we install Anaconda!\n",
    "Anaconda is a Python Data Science platform, it contains all the necessary libraries / IDE / tools for data processing using Python and it contains Python too, so there is no need to install anything else:\n",
    "https://docs.anaconda.com/anaconda/install/#\n",
    "# Python course\n",
    "https://www.datacamp.com/learn-python-with-anaconda"
   ]
  },
  {
   "cell_type": "markdown",
   "metadata": {
    "slideshow": {
     "slide_type": "slide"
    }
   },
   "source": [
    "# Python libraries we used\n",
    "All of them are included in the Anaconda distribution!\n",
    "- **[`numpy`](http://www.numpy.org/)**: numerical analysis, manipulating arrays\n",
    "- **[`pandas`](https://pandas.pydata.org/)**: data manipulation (`DataFrames` are great!)\n",
    "- **[`matplotlib`](https://matplotlib.org/index.html)**: plots\n",
    "- **[`sklearn`](http://scikit-learn.org/stable/)**: `scikit-learn` is probably _The Library_ for Machine Learning, well supported by community\n",
    "\n",
    "And for the notebooks we used **[`jupyter notebook`](http://jupyter.org/install)**."
   ]
  },
  {
   "cell_type": "markdown",
   "metadata": {
    "slideshow": {
     "slide_type": "slide"
    }
   },
   "source": [
    "# What's next?\n",
    "- Getting you set up on your machine\n",
    "- Exploring `scikit-learn`'s functonalities\n",
    "- Natural Language Processing\n",
    "\n",
    "...any suggestion?"
   ]
  },
  {
   "cell_type": "markdown",
   "metadata": {
    "slideshow": {
     "slide_type": "slide"
    }
   },
   "source": [
    "### Thanks to:\n",
    "- Girls Can Do IT\n",
    "- Data For Good Norway\n",
    "\n",
    "### Special thanks to:\n",
    "Patrick Merlot\n"
   ]
  }
 ],
 "metadata": {
  "celltoolbar": "Slideshow",
  "kernelspec": {
   "display_name": "Python [default]",
   "language": "python",
   "name": "python3"
  },
  "language_info": {
   "codemirror_mode": {
    "name": "ipython",
    "version": 3
   },
   "file_extension": ".py",
   "mimetype": "text/x-python",
   "name": "python",
   "nbconvert_exporter": "python",
   "pygments_lexer": "ipython3",
   "version": "3.6.5"
  }
 },
 "nbformat": 4,
 "nbformat_minor": 2
}
