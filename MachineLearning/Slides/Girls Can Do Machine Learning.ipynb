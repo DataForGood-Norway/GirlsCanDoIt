{
 "cells": [
  {
   "cell_type": "markdown",
   "metadata": {
    "slideshow": {
     "slide_type": "slide"
    }
   },
   "source": [
    "# Girls Can Do: Machine Learning!"
   ]
  },
  {
   "cell_type": "markdown",
   "metadata": {
    "slideshow": {
     "slide_type": "slide"
    }
   },
   "source": [
    "### Who are we?\n",
    "#### Emma Scala\n",
    "Geophysicist for 17 years, now exploring the possibilities of Data Science\n",
    "\n",
    "<img src=\"http://vbpr.no/wp-content/uploads/2016/09/PCable-Norwegian-Sea-seismic-sample.jpg\" alt=\"Seismic section\" title=\"Seismic Section\" style=\"width: 50pc;\"/>"
   ]
  },
  {
   "cell_type": "markdown",
   "metadata": {
    "slideshow": {
     "slide_type": "slide"
    }
   },
   "source": [
    "### Who are we?\n",
    "#### Harjeet Harpal\n",
    "Statistics student, working at AIA Science as a Junior Data Scientist"
   ]
  },
  {
   "cell_type": "markdown",
   "metadata": {
    "slideshow": {
     "slide_type": "slide"
    }
   },
   "source": [
    "# What is Machine Learning?"
   ]
  },
  {
   "cell_type": "markdown",
   "metadata": {
    "slideshow": {
     "slide_type": "subslide"
    }
   },
   "source": [
    "Machine learning is that branch of computer science that has the development of Artificial Intelligence in mind."
   ]
  },
  {
   "cell_type": "markdown",
   "metadata": {
    "slideshow": {
     "slide_type": "subslide"
    }
   },
   "source": [
    "Machine learning:\n",
    "- first, makes use of computers to interpret available data and find _patterns_ in it\n",
    "- then, allows computers to get the knowledge to make predictions for new (still unobserved) data. "
   ]
  },
  {
   "cell_type": "markdown",
   "metadata": {
    "slideshow": {
     "slide_type": "slide"
    }
   },
   "source": [
    "## Goal:\n",
    "we want the machines to \"learn\" instead of being explicitly programmed"
   ]
  },
  {
   "cell_type": "markdown",
   "metadata": {
    "slideshow": {
     "slide_type": "subslide"
    }
   },
   "source": [
    "## How do we do it?\n",
    "we use *__Data Science__* to extract information from (lots of!) data in order to \"teach\" the AI"
   ]
  },
  {
   "cell_type": "markdown",
   "metadata": {
    "slideshow": {
     "slide_type": "slide"
    }
   },
   "source": [
    "## And what is Data Science, then?\n",
    "- Data Science\n",
    "- Data Mining\n",
    "- Data Analytics"
   ]
  },
  {
   "cell_type": "markdown",
   "metadata": {
    "slideshow": {
     "slide_type": "fragment"
    }
   },
   "source": [
    "&nbsp;&nbsp; &asymp; &nbsp; __Statistics__\n",
    "\n",
    "<img src=\"files/ScientificMethod.png\" title=\"Statistics\" />"
   ]
  },
  {
   "cell_type": "markdown",
   "metadata": {
    "slideshow": {
     "slide_type": "slide"
    }
   },
   "source": [
    "<blockquote class=\"twitter-tweet\" data-lang=\"en\"><p lang=\"en\" dir=\"ltr\">Data Scientist (n.): Person who is better at statistics than any software engineer and better at software engineering than any statistician.</p>&mdash; Josh Wills (@josh_wills) <a href=\"https://twitter.com/josh_wills/status/198093512149958656?ref_src=twsrc%5Etfw\">May 3, 2012</a></blockquote>\n",
    "<script async src=\"https://platform.twitter.com/widgets.js\" charset=\"utf-8\"></script>"
   ]
  },
  {
   "cell_type": "markdown",
   "metadata": {
    "slideshow": {
     "slide_type": "slide"
    }
   },
   "source": [
    "# Data Scientist's skill set(s)\n",
    "\n",
    "<img src=\"files/Data-Science-vs.-Data-Analytics-vs.-Machine-Learning.jpg\" title=\"Data Scientist Skill Set\" />"
   ]
  },
  {
   "cell_type": "markdown",
   "metadata": {
    "slideshow": {
     "slide_type": "slide"
    }
   },
   "source": [
    "# Why Python?\n",
    "- Easy to learn language\n",
    "- Powerful\n",
    "- Widely spread (= lots of packages and learning resources!)\n",
    "- Popularity in growth"
   ]
  },
  {
   "cell_type": "markdown",
   "metadata": {
    "slideshow": {
     "slide_type": "subslide"
    }
   },
   "source": [
    "# Why not R?\n",
    "We could have used R instead but we had to pick so:"
   ]
  },
  {
   "cell_type": "code",
   "execution_count": 17,
   "metadata": {
    "slideshow": {
     "slide_type": "fragment"
    }
   },
   "outputs": [
    {
     "data": {
      "text/html": [
       "\n",
       "             <script type=\"text/javascript\" src=\"https://ssl.gstatic.com/trends_nrtr/1435_RC10/embed_loader.js\"></script> <script type=\"text/javascript\"> trends.embed.renderExploreWidget(\"TIMESERIES\", {\"comparisonItem\":[{\"keyword\":\"R data science\",\"geo\":\"\",\"time\":\"2014-04-24 2018-05-24\"},{\"keyword\":\"Python data science\",\"geo\":\"\",\"time\":\"2014-04-24 2018-05-24\"}],\"category\":0,\"property\":\"\"}, {\"exploreQuery\":\"date=2014-04-24%202018-05-24&q=R%20data%20science,Python%20data%20science\",\"guestPath\":\"https://trends.google.com:443/trends/embed/\"}); </script>\n",
       "             "
      ],
      "text/plain": [
       "<IPython.core.display.HTML object>"
      ]
     },
     "metadata": {},
     "output_type": "display_data"
    }
   ],
   "source": [
    "# Embedding Google Trends graph: R vs Python\n",
    "from IPython.display import HTML\n",
    "display(HTML(\"\"\"\n",
    "             <script type=\"text/javascript\" src=\"https://ssl.gstatic.com/trends_nrtr/1435_RC10/embed_loader.js\"></script> <script type=\"text/javascript\"> trends.embed.renderExploreWidget(\"TIMESERIES\", {\"comparisonItem\":[{\"keyword\":\"R data science\",\"geo\":\"\",\"time\":\"2014-04-24 2018-05-24\"},{\"keyword\":\"Python data science\",\"geo\":\"\",\"time\":\"2014-04-24 2018-05-24\"}],\"category\":0,\"property\":\"\"}, {\"exploreQuery\":\"date=2014-04-24%202018-05-24&q=R%20data%20science,Python%20data%20science\",\"guestPath\":\"https://trends.google.com:443/trends/embed/\"}); </script>\n",
    "             \"\"\"))"
   ]
  },
  {
   "cell_type": "markdown",
   "metadata": {
    "slideshow": {
     "slide_type": "slide"
    }
   },
   "source": [
    "# But why should we code at all?\n",
    "As a rule of thumb:\n",
    "_the easier it is to use a tool, the less flexible it is_"
   ]
  },
  {
   "cell_type": "markdown",
   "metadata": {
    "slideshow": {
     "slide_type": "slide"
    }
   },
   "source": [
    "# Let's get started: your tools\n",
    "- Your computer! (or an equipped working partner)\n",
    "- Google Account to get CoLabs"
   ]
  },
  {
   "cell_type": "markdown",
   "metadata": {
    "slideshow": {
     "slide_type": "slide"
    }
   },
   "source": [
    "### Examples of application of artificial intelligence:\n",
    "#### through _unsupervised_ learning\n",
    "- Recommender systems\n",
    "- Fraud detection\n",
    "- Image recognition\n",
    "- Natural Language Processing, sentiment analysis\n",
    "- Article-writing bots\n",
    "- Self-driving cars"
   ]
  },
  {
   "cell_type": "markdown",
   "metadata": {
    "slideshow": {
     "slide_type": "slide"
    }
   },
   "source": [
    "### Examples of application of artificial intelligence:\n",
    "#### through _supervised_ learning\n",
    "- Stock market, house pricing\n",
    "- Sports\n",
    "- Astronomy\n",
    "- Prediction of salary, lifetime earnings, etc.\n",
    "- Price-making for flight tickets\n",
    "- Prediction of potency of a drug"
   ]
  },
  {
   "cell_type": "markdown",
   "metadata": {
    "slideshow": {
     "slide_type": "slide"
    }
   },
   "source": [
    "# Types of algorithms\n",
    "\n",
    "<img src=\"files/ml_types.png\" title=\"Types of Algorithms\" />"
   ]
  },
  {
   "cell_type": "markdown",
   "metadata": {
    "slideshow": {
     "slide_type": "slide"
    }
   },
   "source": [
    "# Types of data\n",
    "- Continuous\n",
    "    - We'll tackle it with **Regression**\n",
    "- Discrete\n",
    "    - We'll tackle it with **Classification**"
   ]
  },
  {
   "cell_type": "markdown",
   "metadata": {},
   "source": [
    "# Types of data (and how we learn from it)\n",
    "\n",
    "<img src=\"files/ml_task.png\" title=\"Types of Data\" />"
   ]
  },
  {
   "cell_type": "markdown",
   "metadata": {
    "slideshow": {
     "slide_type": "slide"
    }
   },
   "source": [
    "# Linear Regression: a quick introduction"
   ]
  },
  {
   "cell_type": "markdown",
   "metadata": {
    "slideshow": {
     "slide_type": "slide"
    }
   },
   "source": [
    "# Clustering: a quick introduction"
   ]
  },
  {
   "cell_type": "code",
   "execution_count": null,
   "metadata": {},
   "outputs": [],
   "source": []
  }
 ],
 "metadata": {
  "celltoolbar": "Slideshow",
  "kernelspec": {
   "display_name": "Python 3",
   "language": "python",
   "name": "python3"
  },
  "language_info": {
   "codemirror_mode": {
    "name": "ipython",
    "version": 3
   },
   "file_extension": ".py",
   "mimetype": "text/x-python",
   "name": "python",
   "nbconvert_exporter": "python",
   "pygments_lexer": "ipython3",
   "version": "3.6.5"
  }
 },
 "nbformat": 4,
 "nbformat_minor": 2
}
